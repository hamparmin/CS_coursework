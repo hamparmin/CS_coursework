{
 "cells": [
  {
   "cell_type": "markdown",
   "metadata": {},
   "source": [
    "# Counting Bloom Filters\n",
    "## Overview\n",
    "\n",
    "Counting Bloom Filters are an extension of the original Bloom Filter, a space-efficient data structure. Counting Bloom Filters fulfil the same purpose, to provide a solution to the set membership problem. However, they are able to perform beyond the operations **INSERT** and **QUERY**. They can also **DELETE** without rehashing the entire set. The only change to the data structure is that the filter uses counters instead of booleans as their primary building block.\n",
    "\n",
    "## Operations\n",
    "\n",
    "**INSERT**\n",
    "Populates Bloom Filter by hashing items to be added, and incrementing corresponding counters by one.\n",
    "\n",
    "**QUERY**\n",
    "Finds whether an item is part of the set by checking whether the counters at corresponding hash values are greater than one. False positives are still a tradeoff, but the rate can be controlled by appropriate space allocation.\n",
    "\n",
    "**DELETE**\n",
    "Decrements counters at hash values of an item. Allows removing an element from the hash without having to rehash the entire filter.\n",
    "\n",
    "## Applications\n",
    "While using counters instead of booleans increases the use of space, its increased functionality makes it suitable for multiple applications.\n",
    "\n",
    "### Recommendations\n",
    "Multiple media platforms such as YouTube or Netflix are motivated to show their users new content. They use Bloom filters to store what movies or videos the user has watched, and can with 100% accuracy return content that is yet unseen. However, often viewers don't fully watch a video, and in this case, it is a good strategy to return that content to them again. This requires the deletion of an element from the bloom filter, which a Counting Bloom Filter can achieve.\n",
    "\n",
    "### Browser Cache  Optimisation\n",
    "We use our computers so much that it is worth for a browser to store some data of the pages that we visit regularly. Counting Bloom Filters are a perfect tool to keep track of the set of websites that we visit regularly, and according to our habits insert, query and delete the name of websites to be stored in the cache."
   ]
  },
  {
   "cell_type": "markdown",
   "metadata": {},
   "source": [
    "# Implementation"
   ]
  },
  {
   "cell_type": "code",
   "execution_count": 126,
   "metadata": {},
   "outputs": [],
   "source": [
    "''' Counting Bloom Filter\n",
    "\n",
    "This is a binary bitarray implementation of the CBF,\n",
    "it uses significantly (~x3-4) less space than a list based method would.\n",
    "\n",
    "Parameters:\n",
    "- m: length of the bitarray\n",
    "- b: size of 'buckets', number of bits\n",
    "\n",
    "Hash functions:\n",
    "- I designed the hash functions for this CBF based on our\n",
    "analysis of efficiency in session 8.2\n",
    "-I created hashing() that takes a tuple of a key and a seed\n",
    "and returns a uniform hashvalue\n",
    "-I used 4 different prime seeds to have independent hashes\n",
    "\n",
    "'''\n",
    "from bitarray import bitarray\n",
    "import math, string\n",
    "\n",
    "class CountingBloom(object):\n",
    "    def __init__(self,m,b):\n",
    "        self.m=m #length of bitarray\n",
    "        self.b=b #size of buckets\n",
    "        self.nb=self.m/self.b #number of buckets in the bitarray\n",
    "        self.bitarray=bitarray()\n",
    "        self.zerofill()\n",
    "    \n",
    "    def zerofill(self):\n",
    "        #fill bitarray with zeros for length m\n",
    "        for i in range(self.m):\n",
    "            self.bitarray.append(0)\n",
    "    \n",
    "    def position(self,hashfunction,key):\n",
    "        #returns position of bitarray for hashed key\n",
    "        former_beginning = hashfunction(key)\n",
    "        if former_beginning == 0:\n",
    "            beginning = 0\n",
    "        else:\n",
    "            beginning=former_beginning*self.b-self.b\n",
    "        former_end = hashfunction(key)\n",
    "        if former_end == 0:\n",
    "            end = self.b\n",
    "        else:\n",
    "            end=former_end*self.b\n",
    "        return int(beginning),int(end)\n",
    "    \n",
    "    def hashing(self,key,seed):\n",
    "        ans = 0\n",
    "        for chr in key:\n",
    "            ans = ans * 128 + ord(chr)\n",
    "        ans=ans ^ seed\n",
    "        \n",
    "        return ans%self.nb\n",
    "    \n",
    "    def hash1(self,key):\n",
    "        return self.hashing(key,11)\n",
    "    \n",
    "    def hash2(self,key):\n",
    "        return self.hashing(key,17)\n",
    "    \n",
    "    def hash3(self,key):\n",
    "        return self.hashing(key,23)\n",
    "    \n",
    "    def hash4(self,key):\n",
    "        return self.hashing(key,37)      \n",
    "    \n",
    "    def add(self,x,y):\n",
    "        #binary addition of x and y\n",
    "        x=x.to01() #bitarray string\n",
    "        x=int(x,2)\n",
    "        summa=x+y #sum\n",
    "        return bitarray(format(summa, '08b'))\n",
    "    \n",
    "    def insert(self,key):\n",
    "        #increments bucket by one if key hashes to bucket\n",
    "        p,r=self.position(self.hash1,key)\n",
    "        self.bitarray[p:r]=self.add(self.bitarray[p:r],1)\n",
    "        p,r=self.position(self.hash2,key)\n",
    "        self.bitarray[p:r]=self.add(self.bitarray[p:r],1)\n",
    "        p,r=self.position(self.hash3,key)\n",
    "        self.bitarray[p:r]=self.add(self.bitarray[p:r],1)\n",
    "        p,r=self.position(self.hash4,key)\n",
    "        self.bitarray[p:r]=self.add(self.bitarray[p:r],1)        \n",
    "\n",
    "    \n",
    "    def query(self,key):\n",
    "        #returns true if finds buckets >0 at hash values\n",
    "        p,r=self.position(self.hash1,key)\n",
    "        string=self.bitarray[p:r].to01()\n",
    "        if int(string,2)<1:\n",
    "            return False\n",
    "        p,r=self.position(self.hash2,key)\n",
    "        string=self.bitarray[p:r].to01()\n",
    "        if int(string,2)<1:\n",
    "            return False\n",
    "        p,r=self.position(self.hash3,key)\n",
    "        string=self.bitarray[p:r].to01()\n",
    "        if int(string,2)<1:\n",
    "            return False\n",
    "        p,r=self.position(self.hash4,key)\n",
    "        string=self.bitarray[p:r].to01()\n",
    "        if int(string,2)<1:\n",
    "            return False\n",
    "\n",
    "        return True\n",
    "    \n",
    "    def delete(self,key):\n",
    "        #decrements buckets, which key hashes to\n",
    "        #query if key in filter, prevents false negatives\n",
    "        if self.query(key):\n",
    "            p,r=self.position(self.hash1,key)\n",
    "            self.bitarray[p:r]=self.add(self.bitarray[p:r],-1)\n",
    "            p,r=self.position(self.hash2,key)\n",
    "            self.bitarray[p:r]=self.add(self.bitarray[p:r],-1)\n",
    "            p,r=self.position(self.hash3,key)\n",
    "            self.bitarray[p:r]=self.add(self.bitarray[p:r],-1)\n",
    "            p,r=self.position(self.hash4,key)\n",
    "            self.bitarray[p:r]=self.add(self.bitarray[p:r],-1)\n"
   ]
  },
  {
   "cell_type": "markdown",
   "metadata": {},
   "source": [
    "Now that we have set up our Counting Bloom Filter Object, we want to create a function that takes a list of items and constructs a filter from them. "
   ]
  },
  {
   "cell_type": "code",
   "execution_count": 127,
   "metadata": {},
   "outputs": [],
   "source": [
    "def CountingBloomFilter(items,b,m):\n",
    "    '''\n",
    "    Function populates CBF with items.\n",
    "    \n",
    "    Parameters:\n",
    "    -m is the bitarray length\n",
    "    -b is the bucket size in bits\n",
    "     \n",
    "    I will utilise this function to test the space complexity of CBF.\n",
    "    \n",
    "    '''\n",
    "    if m%b != 0:\n",
    "        raise ValueError('bitarray size is not divisible by bucket size')\n",
    "    \n",
    "    CBF=CountingBloom(m,b)\n",
    "    for item in items:\n",
    "        CBF.insert(item)\n",
    "    \n",
    "    return CBF"
   ]
  },
  {
   "cell_type": "markdown",
   "metadata": {},
   "source": [
    "# Time and Space Complexity Analysis\n",
    "We should first want to specify a couple of functions that will help us in our analysis."
   ]
  },
  {
   "cell_type": "code",
   "execution_count": 128,
   "metadata": {},
   "outputs": [],
   "source": [
    "import time, random\n",
    "def memory_size(cbf):\n",
    "    '''\n",
    "    The only non-static element in our object is self.bitarray,\n",
    "    which is the filter itself.\n",
    "    \n",
    "    As this is the only element that will change upon different\n",
    "    input sizes, it is representative of the total memory use,\n",
    "    especially at large input lengths.\n",
    "    \n",
    "    This function returns the size of the bitarray filter in bits.\n",
    "    \n",
    "    '''\n",
    "    bitarray=cbf.bitarray\n",
    "    return bitarray.buffer_info()[1]\n",
    "\n",
    "def access_time(cbf,keys):\n",
    "    '''\n",
    "    This function calculates an average access time.\n",
    "    \n",
    "    It will take n number of keys, and measure the mean\n",
    "    of the time the query method takes to return an answer.\n",
    "    '''\n",
    "    total=[]\n",
    "    start_time = time.time()\n",
    "    cbf.query(keys[1])\n",
    "    total.append(time.time() - start_time)\n",
    "    return sum(total)/len(total)\n",
    "\n",
    "def false_positive(cbf,keys):\n",
    "    '''\n",
    "    Given a filter object and a set of keys, this function\n",
    "    will generate a set of keys \"not in\" keys and query them all.\n",
    "    \n",
    "    Function keeps count of Trues returned by query,\n",
    "    and calculates a false positive rate.\n",
    "    '''\n",
    "    newkeys=[]\n",
    "    while len(newkeys)!=len(keys):\n",
    "        word=randomword(10)\n",
    "        if word not in keys:\n",
    "            newkeys.append(word)\n",
    "    \n",
    "    counter=0\n",
    "    for newkey in newkeys:\n",
    "        if cbf.query(newkey):\n",
    "            counter+=1\n",
    "    \n",
    "    return counter/len(keys)\n",
    "    \n",
    "def randomword(length):\n",
    "    '''\n",
    "    Random word generator from Pre-class work, session 7.2.\n",
    "    '''\n",
    "    return ''.join(random.choice(string.ascii_lowercase) for i in range(length))\n"
   ]
  },
  {
   "cell_type": "markdown",
   "metadata": {},
   "source": [
    "To analyse the time and space complexity of the relationship of our parameters, let's use the following to represent our variables:\n",
    "\n",
    "* $n$ memory size of the filter.\n",
    "* $b$ number of buckets\n",
    "* $k$ number of hash functions.\n",
    "* $m$ number of set elements in the filter.\n",
    "* $p$ the false positive rate"
   ]
  },
  {
   "cell_type": "markdown",
   "metadata": {},
   "source": [
    "## Memory size as a function of the false positive rate"
   ]
  },
  {
   "cell_type": "markdown",
   "metadata": {},
   "source": [
    "Our memory size, $n$ is going to be a constant multiple of the number of buckets in the filter. In fact, in this bit array implementation it is 8 bits the number of buckets, thus $n=8b$ $bits$.\n",
    "\n",
    "We know that the false positive rate is going to depend on the ratio of elements in the filter and the memory size of the filter, such that in general terms $p=m/n$.\n",
    "\n",
    "Thus, for a fixed input size of $m$, we expect the memory size to scale in terms of the false positive rate, such that $n=1/p$. The plot below confirms the nature of this relationship."
   ]
  },
  {
   "cell_type": "code",
   "execution_count": 125,
   "metadata": {},
   "outputs": [
    {
     "data": {
      "image/png": "[encoded data removed]",
      "text/plain": [
       "<Figure size 432x288 with 1 Axes>"
      ]
     },
     "metadata": {
      "needs_background": "light"
     },
     "output_type": "display_data"
    }
   ],
   "source": [
    "import matplotlib.pyplot as plt\n",
    "\n",
    "'''\n",
    "This cell creates a plot of memory size vs false positive rate by manipulating-\n",
    "the size of the CBF in a loop and averaging the memory-size and false positive rate\n",
    "results.\n",
    "'''\n",
    "\n",
    "x=[]\n",
    "y=[]\n",
    "for i in range(200000,0,-500):\n",
    "    words=[randomword(10) for k in range(1000)]\n",
    "    cbf=CountingBloomFilter(words,8,8*i)\n",
    "    y.append(memory_size(cbf))\n",
    "    x.append(false_positive(cbf,words))\n",
    "\n",
    "x1=[]\n",
    "y1=[]\n",
    "for i in range(0,len(x)-15,15):\n",
    "    temp=sum(x[i:i+15])/len(x[i:i+15])\n",
    "    x1.append(temp)\n",
    "    temp2=sum(y[i:i+15])/len(y[i:i+15])\n",
    "    y1.append(temp2)\n",
    "    \n",
    "plt.xlabel(\"False positive rate.\")\n",
    "plt.ylabel(\"Memory size (bit)\")\n",
    "plt.plot(x1,y1)\n",
    "plt.show()  "
   ]
  },
  {
   "cell_type": "markdown",
   "metadata": {},
   "source": [
    "## Number of items as a function of the false positive rate"
   ]
  },
  {
   "cell_type": "markdown",
   "metadata": {},
   "source": [
    "Similarly to the question above, the number of items as a function of the false positive rate will scale according to $p=m/n$. \n",
    "\n",
    "However, in this case, we have our memory size $n$ fixed, so the general relationship between the number of items and the false positive rate will be a linear function $m=p$. \n",
    "\n",
    "This theoretical observation is confirmed in the plot below, which exhibits a linear relationship with a slight increase in the number of items before the maximum false positive rate of $1$ is reached. \n",
    "\n",
    "This is most probably due to underperforming hash functions, as new items are hashed over others instead of uniformly spanning the filter. But the results are close enough for us to confirm the above theoretical relationship.\n"
   ]
  },
  {
   "cell_type": "code",
   "execution_count": 6,
   "metadata": {},
   "outputs": [
    {
     "data": {
      "image/png": "[encoded data removed]",
      "text/plain": [
       "<Figure size 432x288 with 1 Axes>"
      ]
     },
     "metadata": {
      "needs_background": "light"
     },
     "output_type": "display_data"
    }
   ],
   "source": [
    "'''\n",
    "This cell plots # items stored vs false positive rate\n",
    "by manipulating the # items in an incrementing for loop\n",
    "and averages the results.\n",
    "\n",
    "'''\n",
    "x=[]\n",
    "y=[]\n",
    "for i in range(0,2000,100):\n",
    "    temp1=[]\n",
    "    temp2=[]\n",
    "    for j in range(20):\n",
    "        words=[randomword(10) for k in range(i+1)]\n",
    "        cbf=CountingBloomFilter(words,8,160000)\n",
    "        temp1.append(len(words))    \n",
    "        temp2.append(false_positive(cbf,words))\n",
    "    x.append(sum(temp2)/len(temp2))\n",
    "    y.append(sum(temp1)/len(temp1))\n",
    "plt.xlabel(\"False positive rate.\")\n",
    "plt.ylabel(\"# of items stored\")\n",
    "plt.plot(x,y)\n",
    "plt.show()  "
   ]
  },
  {
   "cell_type": "markdown",
   "metadata": {},
   "source": [
    "## Access time as a function of the false positive rate"
   ]
  },
  {
   "cell_type": "markdown",
   "metadata": {},
   "source": [
    "We expect the access time, i.e. the average time of query, of our Counting Bloom Filter to be the same regardless of the false positive rate, which is linked to the ratio of items and memory size.\n",
    "\n",
    "This is because our **QUERY** function only performs  $O(1)$ operations for the four hash functions:\n",
    "* calculate the hash value of a key\n",
    "* calculate the position of hash value in the bit array\n",
    "* compare if bit array position > 1\n",
    "\n",
    "None of these functions' complexity is going to be affected by the memory or the input item size, thus the constant false positive rate. This is confirmed in our graph below.\n",
    "\n",
    "We see spikes at 10ms and the rest of our access times are 0. This is because the Jupyter **time** module we used cannot measure runtime under 8ms in x64 machines. Thus we can say that our access time is constant that fluctuates between 0-10ms. "
   ]
  },
  {
   "cell_type": "code",
   "execution_count": 109,
   "metadata": {},
   "outputs": [
    {
     "data": {
      "text/plain": [
       "[<matplotlib.lines.Line2D at 0x271c2728320>]"
      ]
     },
     "execution_count": 109,
     "metadata": {},
     "output_type": "execute_result"
    },
    {
     "data": {
      "image/png": "[encoded data removed]",
      "text/plain": [
       "<Figure size 432x288 with 1 Axes>"
      ]
     },
     "metadata": {
      "needs_background": "light"
     },
     "output_type": "display_data"
    }
   ],
   "source": [
    "'''\n",
    "This cell times the access of a single query of CBFs\n",
    "with different false positive rates. It averages the times\n",
    "and false positive rates before plotting.\n",
    "\n",
    "'''\n",
    "\n",
    "x=[]\n",
    "y=[]\n",
    "for i in range(200,1200,50):\n",
    "    tempx=[]\n",
    "    tempy=[]\n",
    "    words=[randomword(10) for k in range(i)]\n",
    "    cbf=CountingBloomFilter(words,8,30000)\n",
    "    for j in range(10):\n",
    "        tempx.append(false_positive(cbf,words))\n",
    "        start_time = time.time()\n",
    "        cbf.query(words[15])\n",
    "        tempy.append(time.time() - start_time)\n",
    "    x.append(sum(tempx)/len(tempx))\n",
    "    y.append(sum(tempy)/len(tempy))\n",
    "\n",
    "plt.xlabel(\"False poistive rate.\")\n",
    "plt.ylabel(\"Access Time (s)\")\n",
    "plt.plot(x,y) "
   ]
  },
  {
   "cell_type": "markdown",
   "metadata": {},
   "source": [
    "## Access time as a function of the number of items stored"
   ]
  },
  {
   "cell_type": "markdown",
   "metadata": {},
   "source": [
    "As explained above, the access time will not depend on the number of items nor the memory size of the bit array.\n",
    "\n",
    "Our graph below confirms the $O(1)$ complexity of access."
   ]
  },
  {
   "cell_type": "code",
   "execution_count": 88,
   "metadata": {},
   "outputs": [
    {
     "data": {
      "text/plain": [
       "[<matplotlib.lines.Line2D at 0x271c131fef0>]"
      ]
     },
     "execution_count": 88,
     "metadata": {},
     "output_type": "execute_result"
    },
    {
     "data": {
      "image/png": "[encoded data removed]",
      "text/plain": [
       "<Figure size 432x288 with 1 Axes>"
      ]
     },
     "metadata": {
      "needs_background": "light"
     },
     "output_type": "display_data"
    }
   ],
   "source": [
    "'''\n",
    "This cell times the access of a single query of CBFs with\n",
    "different number of items stored. It averages the results\n",
    "before plotting.\n",
    "\n",
    "'''\n",
    "\n",
    "x=[]\n",
    "y=[]\n",
    "for i in range(200,1200,50):\n",
    "    tempx=[]\n",
    "    tempy=[]\n",
    "    words=[randomword(50) for k in range(i)]\n",
    "    cbf=CountingBloomFilter(words,8,36000)\n",
    "    for j in range(10):\n",
    "        tempx.append(len(words))\n",
    "        start_time = time.time()\n",
    "        cbf.query(words[15])\n",
    "        tempy.append(time.time() - start_time)\n",
    "    x.append(sum(tempx)/len(tempx))\n",
    "    y.append(sum(tempy)/len(tempy))\n",
    "\n",
    "plt.xlabel(\"Number of items stored.\")\n",
    "plt.ylabel(\"Access Time (s)\")\n",
    "plt.plot(x,y)"
   ]
  },
  {
   "cell_type": "markdown",
   "metadata": {},
   "source": [
    "# Corner Cases"
   ]
  },
  {
   "cell_type": "markdown",
   "metadata": {},
   "source": [
    "## Optimal Case of False Positives"
   ]
  },
  {
   "cell_type": "markdown",
   "metadata": {},
   "source": [
    "A bucket being addressed by a hash function has the probability of $P=1/b$, where $b$ is the number of buckets. This is the best case as it assumes that our hash function can uniformly span the entire filter. From this, it follows that the probability of a bucket not being addressed is $P=1-1/b$.\n",
    "\n",
    "This means that for four hash functions, as in this implementation, the probability of a bucket not having been addressed is $P=(1-1/b)^4$. Consequently, the probability that a bucket remains empty after $m$ items have been placed into the filter is $P_{empty}=(1-1/b)^{4m}$. Thus the probability that a bucket is hashed to after inserting all the items is $P_{nonempty}=1-P_{empty}$.\n",
    "\n",
    "Thus the false positive rate or the probability of every bucket being hashed to is $P_{error}=(1-(1-1/b)^{4m})^4=(1-e^{-4m/b})^k$.\n",
    "\n",
    "The equation that will minimise this rate is $4=\\frac{b}{m} ln(2)$. Thus the optimal ratio between the number of buckets $b$ and the number of items $m$ inserted is $\\frac{b}{m}\\approx 5.77$ with four hash functions."
   ]
  },
  {
   "cell_type": "markdown",
   "metadata": {},
   "source": [
    "## Worst Case"
   ]
  },
  {
   "cell_type": "markdown",
   "metadata": {},
   "source": [
    "Hash functions that do not uniformly and independently map the filter will result in more collisions and thus can increase our false positive rate. A potential worst-case scenario is if the hash functions map every element to the same buckets. Thus the probability of mapping onto the same buckets is $P=1$, and thus our false positive error rate is $P_{error}=1$, as an additional element not originally part of the set would map to the same buckets.\n",
    "\n",
    "Also, it might happen that our buckets overflow and we are not able to increment the bucket any further. In such a case an additional map to the bucket would not be noticed (or would raise an error in a good code implementation) and thus upon deletion, we could run into the problem of false negatives.\n",
    "\n",
    "A third potential drawback of Counting Bloom Filters is if we are deleting an item from the filter that has not been part of the set. If the item is not queried beforehand, this could result in us decrementing buckets of actual set members, thus resulting in false negatives."
   ]
  },
  {
   "cell_type": "markdown",
   "metadata": {},
   "source": [
    "# HC Applications\n",
    "**#modeling:** In this assignment I accurately identified the workings of the Bloom Filter data structure, and explained how it is a functional model to solve the set-membership problem. Following this, I developed a Counting Bloom Filter with extended utility over the original model. During my construction of the model, I paid particular attention to implement it in the most efficient manner (I used binary arrays vs lists for better performance).\n",
    "\n",
    "**#constraints:** This assignment required me to dig deeper into understanding binary representation of the data and identify obstacles these basic constraints of machine impose on the computer scientist. I developed methods to go around these constraints (e.g. binary addition method in my CBF object) and utilised the simplicity of the binary bit array to make an efficient data structure."
   ]
  },
  {
   "cell_type": "markdown",
   "metadata": {},
   "source": [
    "# References\n",
    "*For the theoretical analysis of Bloom Filters I have relied on the following resources*\n",
    "1. Blustein, J., & El-Maazawi, A. (2002). Bloom filters. a tutorial, analysis, and survey. Halifax, NS: Dalhousie University, 1-31.\n",
    "2. Bloom filter. (2019, February 04). Retrieved from https://en.wikipedia.org/wiki/Bloom_filter\n"
   ]
  }
 ],
 "metadata": {
  "kernelspec": {
   "display_name": "Python 3",
   "language": "python",
   "name": "python3"
  },
  "language_info": {
   "codemirror_mode": {
    "name": "ipython",
    "version": 3
   },
   "file_extension": ".py",
   "mimetype": "text/x-python",
   "name": "python",
   "nbconvert_exporter": "python",
   "pygments_lexer": "ipython3",
   "version": "3.7.1"
  }
 },
 "nbformat": 4,
 "nbformat_minor": 2
}
