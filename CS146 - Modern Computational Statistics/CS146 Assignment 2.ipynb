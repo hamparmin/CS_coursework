{
 "cells": [
  {
   "cell_type": "markdown",
   "metadata": {},
   "source": [
    "# CS146 Assignment 2\n",
    "## Armin Hamp, 2019 September 27"
   ]
  },
  {
   "cell_type": "markdown",
   "metadata": {},
   "source": [
    "# Code from previous class\n",
    "\n",
    "Below I kept only the code from Activity 2.2 that is essential for completing Assignment 2."
   ]
  },
  {
   "cell_type": "code",
   "execution_count": 1,
   "metadata": {},
   "outputs": [],
   "source": [
    "import numpy as np\n",
    "import scipy as sp\n",
    "import scipy.stats as sts\n",
    "import matplotlib.pyplot as plt\n",
    "\n",
    "%matplotlib inline"
   ]
  },
  {
   "cell_type": "code",
   "execution_count": 2,
   "metadata": {},
   "outputs": [
    {
     "name": "stdout",
     "output_type": "stream",
     "text": [
      "Size of data set: 5856\n",
      "First 3 values in data set: [30.   3.4  3.2]\n",
      "Sum of data set: 1441.6838153800093\n"
     ]
    }
   ],
   "source": [
    "# Load the data set containing durations between calls arriving at the call\n",
    "# center during 1 day. All values are in minutes.\n",
    "waiting_times_day = np.loadtxt('call_center.csv')\n",
    "\n",
    "# Display some basic information about the data set.\n",
    "print('Size of data set:', len(waiting_times_day))\n",
    "print('First 3 values in data set:', waiting_times_day[:3])\n",
    "print('Sum of data set:', sum(waiting_times_day))\n",
    "\n",
    "# Make 24 empty lists, one per hour.\n",
    "waiting_times_per_hour = [[] for _ in range(24)]\n",
    "\n",
    "# Split the data into 24 separate series, one for each hour of the day.\n",
    "current_time = 0\n",
    "for t in waiting_times_day:\n",
    "    current_hour = int(current_time // 60)\n",
    "    current_time += t\n",
    "    waiting_times_per_hour[current_hour].append(t)"
   ]
  },
  {
   "cell_type": "code",
   "execution_count": 3,
   "metadata": {},
   "outputs": [],
   "source": [
    "# THE LIKELIHOOD FUNCTION\n",
    "#\n",
    "# This function takes 2 inputs, namely the parameter (λ) value at which to\n",
    "# compute the likelihood and a value from the data set. You need to evaluate\n",
    "# the exponential distribution of the datum given the parameter value.\n",
    "\n",
    "def likelihood(lambda_, datum):\n",
    "    return sts.expon(scale=1/lambda_).pdf(datum)\n",
    "\n",
    "# THE PRIOR DISTRIBUTION\n",
    "#\n",
    "# This function takes 1 input, namely the parameter value (λ) at which to\n",
    "# compute the prior probability density. You need to evaluate the distribution\n",
    "# Gamma(λ | α, β).\n",
    "\n",
    "def prior(lambda_):\n",
    "    return sts.gamma(1, scale=1/0.25).pdf(lambda_)\n",
    "\n",
    "# THE POSTERIOR DISTRIBUTION\n",
    "#\n",
    "# The function below is provided to help make computing the posterior easier. It\n",
    "# follows the same pattern as in the previous class, where we multiple the prior\n",
    "# and the likelihood evaluated at various values of the parameter (λ).\n",
    "#\n",
    "# You will see the function uses the logarithms of various distributions. This\n",
    "# is for numerical reasons. When you multiply lots of likelihood values, the\n",
    "# result can become very large or very small, causing numerical overflow or\n",
    "# underflow in Python. Taking logarithms avoids this problem.\n",
    "\n",
    "def compute_posterior(parameter_values, prior, likelihood, data):\n",
    "    log_prior = np.log(prior(parameter_values))\n",
    "    log_likelihood = np.array([\n",
    "        np.sum(np.log(likelihood(param, data)))\n",
    "        for param in parameter_values])\n",
    "    unnormalized_log_posterior = log_prior + log_likelihood\n",
    "    unnormalized_log_posterior -= max(unnormalized_log_posterior)\n",
    "    unnormalized_posterior = np.exp(unnormalized_log_posterior)\n",
    "    area = sp.integrate.trapz(unnormalized_posterior, parameter_values)\n",
    "    posterior = unnormalized_posterior / area\n",
    "    return posterior"
   ]
  },
  {
   "cell_type": "code",
   "execution_count": 4,
   "metadata": {},
   "outputs": [],
   "source": [
    "def compute_percentile(parameter_values, distribution_values, percentile):\n",
    "    '''\n",
    "    Compute the parameter value at a particular percentile of the given\n",
    "    probability distribution values. This function uses the cumulative trapezoid\n",
    "    integrator in SciPy.\n",
    "\n",
    "    Inputs:\n",
    "\n",
    "        parameter_values (array of float) This is the list of parameter values\n",
    "          at which the probability distribution has been evaluated.\n",
    "\n",
    "        distribution_values (array of float) This is the list of values of the\n",
    "          probability density function evaluated at the parameter values above.\n",
    "\n",
    "        percentile (float) This is the value between 0 and 1 of the percentile\n",
    "          to compute.\n",
    "\n",
    "    Returns: (float) The parameter value at the given percentile.\n",
    "    '''\n",
    "    cumulative_distribution = sp.integrate.cumtrapz(\n",
    "        distribution_values, parameter_values)\n",
    "    percentile_index = np.searchsorted(cumulative_distribution, percentile)\n",
    "    return lambdas[percentile_index]"
   ]
  },
  {
   "cell_type": "markdown",
   "metadata": {},
   "source": [
    "# Own work\n",
    "\n",
    "Compute a 98% posterior confidence interval over the number of calls per minute (the call\n",
    "rate λ ) for each hour of the day — so you will have 24 confidence intervals. Also, compute\n",
    "the posterior mean of λ for each hour of the day.\n"
   ]
  },
  {
   "cell_type": "code",
   "execution_count": 25,
   "metadata": {},
   "outputs": [
    {
     "name": "stdout",
     "output_type": "stream",
     "text": [
      "Confidence Intervals over call rate for each hour of the day\n",
      "Hour  0    [0.04, 0.2]\n",
      "Hour  1    [0.04, 0.16]\n",
      "Hour  2    [0.04, 0.16]\n",
      "Hour  3    [0.08, 0.44]\n",
      "Hour  4    [0.24, 0.64]\n",
      "Hour  5    [0.6, 1.2]\n",
      "Hour  6    [1.2, 1.96]\n",
      "Hour  7    [2.36, 3.4]\n",
      "Hour  8    [3.64, 4.88]\n",
      "Hour  9    [5.0, 6.44]\n",
      "Hour  10    [7.4, 9.16]\n",
      "Hour  11    [14.16, 16.52]\n",
      "Hour  12    [13.120000000000001, 15.4]\n",
      "Hour  13    [5.6000000000000005, 7.12]\n",
      "Hour  14    [2.56, 3.64]\n",
      "Hour  15    [2.88, 4.0]\n",
      "Hour  16    [3.7600000000000002, 5.0]\n",
      "Hour  17    [6.2, 7.76]\n",
      "Hour  18    [7.92, 9.68]\n",
      "Hour  19    [5.88, 7.44]\n",
      "Hour  20    [1.84, 2.7600000000000002]\n",
      "Hour  21    [0.56, 1.12]\n",
      "Hour  22    [0.16, 0.52]\n",
      "Hour  23    [0.12, 0.48]\n"
     ]
    }
   ],
   "source": [
    "#calculate and store posteriors for each hour, calculate and store conf ints\n",
    "#storage vectors for posteriors, ci, means\n",
    "posteriors=[]\n",
    "confidence_intervals=[]\n",
    "posterior_means=[]\n",
    "for h in range(24):\n",
    "    #loop through every hour and compute posterio\n",
    "    lambdas=np.linspace(0, 20, 501)[1:] #initialise lambda\n",
    "    posteriors.append(compute_posterior(lambdas, prior, likelihood, waiting_times_per_hour[h])) \n",
    "    confidence_intervals.append([compute_percentile(lambdas, posteriors[h], p) for p in [0.01, 0.99]])\n",
    "    posterior_means.append(sp.integrate.trapz(posteriors[h] * lambdas, lambdas))\n",
    "\n",
    "#print conf ints\n",
    "print(\"Confidence Intervals over call rate for each hour of the day\")\n",
    "for i in range(24):\n",
    "    print(\"Hour \",i,\"  \",confidence_intervals[i])\n"
   ]
  },
  {
   "cell_type": "code",
   "execution_count": 24,
   "metadata": {},
   "outputs": [
    {
     "data": {
      "image/png": "[encoded data removed]",
      "text/plain": [
       "<Figure size 576x432 with 1 Axes>"
      ]
     },
     "metadata": {
      "needs_background": "light"
     },
     "output_type": "display_data"
    }
   ],
   "source": [
    "#plot the results of conf int calculation\n",
    "hours=range(24)\n",
    "#format confint into a 2xN array with lower and upper bounds separate\n",
    "ci_lower=[posterior_means[i]-confidence_intervals[i][0] for i in range(24)]\n",
    "ci_upper=[confidence_intervals[i][1]-posterior_means[i] for i in range(24)]\n",
    "ci=[ci_lower,ci_upper] #join data\n",
    "\n",
    "#get and plot posterior means by integration\n",
    "plt.figure(figsize=(8, 6))\n",
    "plt.errorbar(hours,posterior_means,yerr=ci, fmt='o',capsize=4)\n",
    "plt.title(\"Mean and 98% confidence interval over call rate\")\n",
    "plt.xlabel('Hour of the day')\n",
    "plt.ylabel('Calls per minute')\n",
    "plt.savefig('errorbar.png', dpi=300)"
   ]
  },
  {
   "cell_type": "markdown",
   "metadata": {},
   "source": [
    "Each dot on the graph illustrates an estimate of the rate of calls we might expect for the given hour of the day. We may observe that the busiest times of the day are 11:00-13:00 and 17:00-19:00. During these peak periods, the call center might receive more than 15 and 9 calls per minute, respectively. We see a lower rate (~3-7 calls/min) of calls between the peak periods, and during the night from 22:00-04:00 the center barely receives any calls.\n",
    "\n",
    "The bars around each dot represent our certainty of the estimate. In fact they signal that we can be 98% certain that the true call rate for a given hour will be within the span of the bars. Thus the longer the bars, the greater is our uncertainty what the exact value of the call rate is going to be.\n",
    "\n",
    "\n"
   ]
  }
 ],
 "metadata": {
  "kernelspec": {
   "display_name": "Python 3",
   "language": "python",
   "name": "python3"
  },
  "language_info": {
   "codemirror_mode": {
    "name": "ipython",
    "version": 3
   },
   "file_extension": ".py",
   "mimetype": "text/x-python",
   "name": "python",
   "nbconvert_exporter": "python",
   "pygments_lexer": "ipython3",
   "version": "3.7.1"
  }
 },
 "nbformat": 4,
 "nbformat_minor": 1
}
