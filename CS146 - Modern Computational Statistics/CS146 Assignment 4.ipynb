{
 "cells": [
  {
   "cell_type": "markdown",
   "metadata": {},
   "source": [
    "# CS146 Assignment 4\n",
    "**Armin Hamp**\n",
    "\n",
    "*21 November 2019*"
   ]
  },
  {
   "cell_type": "code",
   "execution_count": 1,
   "metadata": {},
   "outputs": [],
   "source": [
    "#import necessary libraries\n",
    "import numpy as np\n",
    "import scipy.stats as sts\n",
    "import matplotlib.pyplot as plt"
   ]
  },
  {
   "cell_type": "code",
   "execution_count": 2,
   "metadata": {},
   "outputs": [],
   "source": [
    "#define medical trial data control group\n",
    "success=[9,11,4,21,12,0] \n",
    "total=[15,18,10,39,29,10]\n",
    "#combine for: [success, failure]\n",
    "data=[success,[total[i]-success[i] for i in range(len(total))]]"
   ]
  },
  {
   "cell_type": "markdown",
   "metadata": {},
   "source": [
    "## Non-hierarchical Model"
   ]
  },
  {
   "cell_type": "markdown",
   "metadata": {},
   "source": [
    "The structure of the non-hierarchical model followed:\n",
    "\n",
    "Likelihood: $\\prod_{i=1}^6 \\text{Binomial}(s_i\\,|\\,\\theta, n_i)$, where $s_i$ is the number of successful recoveries, $f_i$ is the number of failures (did not recover), and $n_i=s_i+f_i$ the number of patients.\n",
    "\n",
    "Prior: $\\text{Beta}(\\theta\\,|\\,1,1)$ for both $\\theta_t$ and $\\theta_c$.\n",
    "\n",
    "Posterior for control group: $\\text{Beta}(\\theta_c\\,|\\,58, 65)$.\n",
    "\n",
    "We can use this model to generate fake data (posterior predictive samples) by:\n",
    "\n",
    "1. Sampling the posterior for probabilities of success: $\\theta_{posterior}$ .\n",
    "2. Sampling a $Binomial(s|\\theta_{posterior},n)$, where $s$ is the number of successful recoveries and $n$ is the number of patients, which I set equal to the mean of the total studies, $n=20$."
   ]
  },
  {
   "cell_type": "code",
   "execution_count": 3,
   "metadata": {},
   "outputs": [],
   "source": [
    "#generate theta posterior\n",
    "posterior=sts.beta(58,65) #posterior\n",
    "\n",
    "#sample posterior 100000 times \n",
    "theta_samples=posterior.rvs(size=100000)"
   ]
  },
  {
   "cell_type": "code",
   "execution_count": 4,
   "metadata": {},
   "outputs": [],
   "source": [
    "#function to generate binomial sample with given theta value\n",
    "def generate_data(theta):\n",
    "    n=20 #number of patients\n",
    "    successes=list(sts.binom.rvs(n,p=theta,size=6))\n",
    "    failures=[n-successes[i] for i in range(6)]\n",
    "    return [successes,failures]\n",
    "\n",
    "#generate data for each theta\n",
    "fake_data=[generate_data(i) for i in theta_samples] "
   ]
  },
  {
   "cell_type": "markdown",
   "metadata": {},
   "source": [
    "## Test Statistic\n",
    "\n",
    "To assess the quality of the generated data, we want to devise a test statistic that captures the most characteristic features of the original data. We can calculate a test statistic value for all of our generated data and compare it to the statistic calculated for our data that was given.\n",
    "\n",
    "Since our original studies showed a wide range of success rates (e.g. 0/10 or 11/18) I wanted to see whether this wide range is true of our generated data too. I chose to calculate the range of success rates for each data sample."
   ]
  },
  {
   "cell_type": "code",
   "execution_count": 5,
   "metadata": {},
   "outputs": [],
   "source": [
    "def test_statistic(data):\n",
    "    #calculate range of success rate for data sample\n",
    "    proportions=[data[0][i]/(data[0][i]+data[1][i]) for i in range(len(data[0]))]\n",
    "    result=max(proportions)-min(proportions)\n",
    "    return result"
   ]
  },
  {
   "cell_type": "code",
   "execution_count": 6,
   "metadata": {},
   "outputs": [
    {
     "data": {
      "image/png": "[encoded data removed]",
      "text/plain": [
       "<Figure size 1008x576 with 1 Axes>"
      ]
     },
     "metadata": {
      "needs_background": "light"
     },
     "output_type": "display_data"
    }
   ],
   "source": [
    "#plot a histogram of test statistics for generated data\n",
    "hist_data=[test_statistic(i) for i in fake_data]\n",
    "plt.figure(figsize=(14,8))\n",
    "reference=test_statistic(data)\n",
    "plt.xlim(0,1) \n",
    "plt.axvline(reference,color='red') #test stat of original data\n",
    "plt.hist(hist_data,bins=16,alpha=0.7)\n",
    "\n",
    "\n",
    "#p value\n",
    "count=0\n",
    "for i in hist_data:\n",
    "    if i>reference:\n",
    "        count+=1\n",
    "plt.title(\"Test statistic distribution of generated data. P-value: %.4f.\" % \n",
    "          (count/len(hist_data)))\n",
    "plt.show()"
   ]
  },
  {
   "cell_type": "markdown",
   "metadata": {},
   "source": [
    "As can be seen in the graph above our posterior predictive samples from the non-hierarchical model do not capture our original data very well. Most of the test statistics of the generated data fall below the statistic calculated for the original dataset, with a $p<0.05$."
   ]
  },
  {
   "cell_type": "markdown",
   "metadata": {},
   "source": [
    "## HC Applications\n",
    "**#sampling:** In this assignment I accurately apply and explain the posterior predictive sampling of our non-hierarchical model. Consequently, I evaluate the effectiveness of our generated data using a test statistic.\n"
   ]
  }
 ],
 "metadata": {
  "kernelspec": {
   "display_name": "Python 3",
   "language": "python",
   "name": "python3"
  },
  "language_info": {
   "codemirror_mode": {
    "name": "ipython",
    "version": 3
   },
   "file_extension": ".py",
   "mimetype": "text/x-python",
   "name": "python",
   "nbconvert_exporter": "python",
   "pygments_lexer": "ipython3",
   "version": "3.7.1"
  }
 },
 "nbformat": 4,
 "nbformat_minor": 2
}
